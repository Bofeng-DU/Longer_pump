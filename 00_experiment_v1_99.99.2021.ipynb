{
 "cells": [
  {
   "cell_type": "code",
   "execution_count": null,
   "id": "580e5da1-a371-4e7a-a33a-31ea6f3c8bf9",
   "metadata": {},
   "outputs": [],
   "source": [
    "'''\n",
    "make sure these packages are installed\n",
    "\n",
    "import serial\n",
    "import numpy as np\n",
    "import base64\n",
    "import time\n",
    "import os\n",
    "import struct\n",
    "from binascii import unhexlify\n",
    "import codecs\n",
    "import threading\n",
    "import time\n",
    "import sys\n",
    "import glob\n",
    "\n",
    "'''"
   ]
  },
  {
   "cell_type": "code",
   "execution_count": null,
   "id": "be8a0dea-44f0-4dd6-94b2-2c9755604a8b",
   "metadata": {},
   "outputs": [],
   "source": [
    "import sys\n",
    "sys.path.append(\"/home/bofeng/Desktop/chem_experiment\") # this path is where you put the longer.py in \n",
    "import Longer\n",
    "import Valve\n",
    "# 48 -> 48mm internal diameter\n",
    "# YZII25_48 -> head YZII25 with inter_diameter 4.8mm\n",
    "YZII25_48 = 186 # max. ml/min in 100rpm\n",
    "YZII25_35 = 88 # min. ml/min in 100rpm"
   ]
  },
  {
   "cell_type": "code",
   "execution_count": null,
   "id": "62ca2505-fe65-4bc4-bdae-c72303e6d8a8",
   "metadata": {},
   "outputs": [],
   "source": [
    "Ports_list_opened = Longer.OpenPort_S() # work for WIN and LINUX\n",
    "serial_01 = Ports_list_opened[0] "
   ]
  },
  {
   "cell_type": "code",
   "execution_count": null,
   "id": "bd163981-ac3e-472e-9d63-3164e0cc7da1",
   "metadata": {},
   "outputs": [],
   "source": [
    "PUMP_01 = Longer.PUMP(serial = serial_01, Addr = 1, Speed = 100, CW = True, ON = False) # set some default par but no transmisstion"
   ]
  },
  {
   "cell_type": "code",
   "execution_count": null,
   "id": "9e4352d0-e0c4-4c89-9cf7-318034334604",
   "metadata": {},
   "outputs": [],
   "source": [
    "PUMP_01.Set_speed(Speed = 99.99, ON = True, CW = True, Duration = 'Keep') # Speed has to be from 0.1 to 99.9 rpm\n",
    "#PUMP_01.Set_speed(Speed = 99.99, ON = True, CW = True, Duration = 30) # keep running for 30s"
   ]
  },
  {
   "cell_type": "code",
   "execution_count": null,
   "id": "3ffde8dd-a124-4e6b-8bc6-501384014a20",
   "metadata": {},
   "outputs": [],
   "source": [
    "PUMP_01.Set_flow(Tube = YZII25_48, Flow = 60, ON = True, CW = True, Duration = 'Keep') \n",
    "# PUMP_01.Set_flow(Tube = YZII25_48, Flow = 30, ON = True, CW = True, Duration = 30) # keep running for 30s"
   ]
  },
  {
   "cell_type": "code",
   "execution_count": null,
   "id": "02d1a09a-c43b-4d92-a95e-562d99f6fbbc",
   "metadata": {},
   "outputs": [],
   "source": [
    "PUMP_01.Set_volume(Tube = YZII25_48, Volume = 10, CW = True, Speed = 50) "
   ]
  },
  {
   "cell_type": "code",
   "execution_count": null,
   "id": "119615f2-4bf5-4002-8eed-e144f4683636",
   "metadata": {},
   "outputs": [],
   "source": [
    "PUMP_01.Stop()"
   ]
  },
  {
   "cell_type": "code",
   "execution_count": null,
   "id": "9ddf25fe-112d-4527-87ac-1137984d8e09",
   "metadata": {},
   "outputs": [],
   "source": [
    "PUMP_02.Change_Addr(new_addr = 1) # assign the address to new_addr\n",
    "# if old_address is 1, new_addr also 1 then the final_address will be 1"
   ]
  }
 ],
 "metadata": {
  "kernelspec": {
   "display_name": "Python 3 (ipykernel)",
   "language": "python",
   "name": "python3"
  },
  "language_info": {
   "codemirror_mode": {
    "name": "ipython",
    "version": 3
   },
   "file_extension": ".py",
   "mimetype": "text/x-python",
   "name": "python",
   "nbconvert_exporter": "python",
   "pygments_lexer": "ipython3",
   "version": "3.8.8"
  }
 },
 "nbformat": 4,
 "nbformat_minor": 5
}
