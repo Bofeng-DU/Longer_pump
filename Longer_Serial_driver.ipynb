{
 "cells": [
  {
   "cell_type": "code",
   "execution_count": 1,
   "id": "18e80d09-ded5-44ea-b7c7-b78e6108df5f",
   "metadata": {
    "jupyter": {
     "source_hidden": true
    },
    "tags": []
   },
   "outputs": [],
   "source": [
    "import serial\n",
    "import numpy as np\n",
    "import base64\n",
    "import time\n",
    "import os\n",
    "import struct\n",
    "from binascii import unhexlify\n",
    "import codecs\n",
    "import threading\n",
    "import time\n",
    "import sys\n",
    "import glob\n",
    "\n",
    "############################################################\n",
    "byte = 'byte'\n",
    "STRGLO=\"\"\n",
    "BOOL=True\n",
    "\n",
    "flag = int('0xe9',16)\n",
    "Addr = int('0x01',16)\n",
    "leng_WJ = int('0x06',16)\n",
    "leng_RJ = int('0x02',16)\n",
    "leng_WID = int('0x04',16)\n",
    "leng_RID = int('0x03',16)\n",
    "\n",
    "W = int('0x57',16)\n",
    "J = int('0x4a',16)\n",
    "R = int('0x52',16)\n",
    "I = int('0x49',16)\n",
    "D = int('0x44',16)\n",
    "\n",
    "PH_0 = int('0x00',16) # Placeholder 0x00\n",
    "\n",
    "CW = int('0x01',16)\n",
    "CCW = int('0x00',16)\n",
    "ON = int('0x01',16)\n",
    "OFF = int('0x00',16)"
   ]
  },
  {
   "cell_type": "code",
   "execution_count": 2,
   "id": "1ea9d87b-8670-4549-ac33-fa3420567e40",
   "metadata": {
    "jupyter": {
     "source_hidden": true
    },
    "tags": []
   },
   "outputs": [],
   "source": [
    "def get_serial_ports():\n",
    "    \"\"\" Lists serial port names\n",
    "\n",
    "        :raises EnvironmentError:\n",
    "            On unsupported or unknown platforms\n",
    "        :returns:\n",
    "            A list of the serial ports available on the system\n",
    "    \"\"\"\n",
    "    if sys.platform.startswith('win'):\n",
    "        ports = ['COM%s' % (i + 1) for i in range(256)]\n",
    "    elif sys.platform.startswith('linux') or sys.platform.startswith('cygwin'):\n",
    "        # this excludes your current terminal \"/dev/tty\"\n",
    "        ports = glob.glob('/dev/tty[A-Za-z]*')\n",
    "    elif sys.platform.startswith('darwin'):\n",
    "        ports = glob.glob('/dev/tty.*')\n",
    "    else:\n",
    "        raise EnvironmentError('Unsupported platform')\n",
    "\n",
    "    serial_ports = []\n",
    "    for port in ports:\n",
    "        try:\n",
    "            s = serial.Serial(port)\n",
    "            s.close()\n",
    "            serial_ports.append(port)\n",
    "        except (OSError, serial.SerialException):\n",
    "            pass\n",
    "    return serial_ports\n",
    "\n",
    "def OpenPort(portx,bps = 1200, timeout=0): # try to open local serial port with specific name\n",
    "    ret=False\n",
    "    try:\n",
    "        # open serial port and return \n",
    "        ser = serial.Serial(portx, bps, timeout=timeout,\n",
    "                            parity = serial.PARITY_EVEN,\n",
    "                            stopbits = serial.STOPBITS_ONE,\n",
    "                            bytesize = serial.EIGHTBITS,\n",
    "                            xonxoff = True,\n",
    "                            dsrdtr = False)\n",
    "        #return boolen to show wether opened\n",
    "        if(ser.is_open):\n",
    "            ret=True\n",
    "            threading.Thread(target = ReadData, args = (ser,)).start()\n",
    "    except Exception as error:\n",
    "        print(\"can't open the port\", error)\n",
    "    return ser,ret\n",
    "\n",
    "def OpenPort_S(): # loop local serial ports and open them, return a list contains all the opened ports\n",
    "    Ports_list_opened = []\n",
    "    ports_list = get_serial_ports()\n",
    "    print(f'Find {len(ports_list)} ports, try to open these ports')\n",
    "    i = 0\n",
    "    for port in ports_list:\n",
    "        ser,ret = OpenPort(port,bps = 1200, timeout = 1)\n",
    "        Ports_list_opened.append(ser)\n",
    "        print(f'Find Port: {ser.name} now is open: {ret}')\n",
    "        i = i + 1 \n",
    "    return Ports_list_opened\n",
    "        \n",
    "def ReadData(ser, wait_time = 5): # not so useful here. may have to run in threading\n",
    "    global StrGlo,Bool\n",
    "    # dead loop but can run in threading\n",
    "    t = 0 # set a time_var to read data after sending\n",
    "    while BOOL:\n",
    "        if ser.in_waiting:\n",
    "            STRGLO = ser.read(ser.in_waiting).decode(\"hex\")\n",
    "            print(STRGLO)\n",
    "            time.sleep(1)\n",
    "            t = t + 1\n",
    "            if t > (wait_time - 1): \n",
    "                return STRGLO\n",
    "                break\n",
    "\n",
    "def DColsePort(ser): # kill the port \n",
    "    global BOOL\n",
    "    BOOL=False\n",
    "    ser.close()"
   ]
  },
  {
   "cell_type": "code",
   "execution_count": 3,
   "id": "2e020049-0c37-4b43-99c4-0bf6c1a6e1d4",
   "metadata": {
    "jupyter": {
     "source_hidden": true
    },
    "tags": []
   },
   "outputs": [],
   "source": [
    "class PUMP:\n",
    "    \n",
    "    flag = int('0xe9',16)\n",
    "    Addr = int('0x01',16)\n",
    "    leng_WJ = int('0x06',16)\n",
    "    leng_RJ = int('0x02',16)\n",
    "    leng_WID = int('0x04',16)\n",
    "    leng_RID = int('0x03',16)\n",
    "\n",
    "    W = int('0x57',16)\n",
    "    J = int('0x4a',16)\n",
    "    R = int('0x52',16)\n",
    "    I = int('0x49',16)\n",
    "    D = int('0x44',16)\n",
    "\n",
    "    PH_0 = int('0x00',16) # Placeholder 0x00\n",
    "\n",
    "    CW = int('0x01',16)\n",
    "    CCW = int('0x00',16)\n",
    "    ON = int('0x01',16)\n",
    "    OFF = int('0x00',16)\n",
    "        \n",
    "    def __init__(self, serial, Addr, Speed, CW, ON):\n",
    "\n",
    "        self.serial = serial # serial class\n",
    "        self.Speed = Speed # int\n",
    "        self.Addr = Addr # int\n",
    "        self.CW = CW\n",
    "        self.ON = ON\n",
    "        \n",
    "    def PDU_FCX(self, PDU, Speed):\n",
    "        fcx = 0 \n",
    "        if Speed == None:\n",
    "            PDU_ = PDU[:]\n",
    "            for byte in PDU_:\n",
    "                fcx = fcx ^ byte\n",
    "            return hex(fcx)\n",
    "\n",
    "        if Speed < 256:\n",
    "            PDU_ = PDU[:]\n",
    "            PDU_.insert(5,Speed)\n",
    "            for byte in PDU_:\n",
    "                fcx = fcx ^ byte\n",
    "            return hex(fcx)\n",
    "\n",
    "        else:\n",
    "            SPD_1 = '0'+ hex(Speed)[2]\n",
    "            SPD_2 = hex(Speed)[3:5]\n",
    "            #print(f'SPD_1: {SPD_1}  SPD_2: {SPD_2}')\n",
    "\n",
    "            SPD_1 = int(SPD_1, 16)\n",
    "            SPD_2 = int(SPD_2, 16)\n",
    "            PDU.copy().pop(5)\n",
    "            PDU.pop(4)\n",
    "            for byte in PDU:\n",
    "                fcx = fcx ^ byte\n",
    "\n",
    "            fcx = fcx^ SPD_1^ SPD_2\n",
    "            return hex(fcx)\n",
    "\n",
    "    def get_speed_hex(self, Speed):\n",
    "\n",
    "        if Speed > 255:\n",
    "            SPD_1 = '0x0'+ hex(Speed)[2]\n",
    "            SPD_2 = '0x'+ hex(Speed)[3:5]\n",
    "            hex_spd = [SPD_1,SPD_2]\n",
    "\n",
    "        elif Speed == 232:\n",
    "            hex_spd = [hex(Speed),hex(PH_0).replace('x','x0')]  \n",
    "        elif Speed < 16:\n",
    "            hex_spd = [hex(Speed).replace('x','x0')]  \n",
    "        else:\n",
    "            hex_spd = hex(Speed)\n",
    "        return hex_spd\n",
    "\n",
    "    def get_full_command(self, *PDU, FCX, Speed, hex_spd): # reading the command and get CRC-Byte\n",
    "\n",
    "        bf_btye = ['0xe9'] # E9 as command_flag. No need to change but only works for LONGER PUMP    \n",
    "        if Speed == None and hex_spd == None:\n",
    "            for byte in PDU:\n",
    "                if len(hex(byte)) < 4:\n",
    "                    hex_byte = hex(byte)\n",
    "                    hex_byte = hex_byte.replace('0x','0x0')\n",
    "                    bf_btye.append(hex_byte)\n",
    "\n",
    "                else:\n",
    "                    hex_byte = hex(byte)\n",
    "                    bf_btye.append(hex_byte)\n",
    "\n",
    "            if len(FCX)<4: # special situation for CRC only in 1 Byte\n",
    "                FCX = FCX.replace('0x','0x0')\n",
    "\n",
    "            bf_btye.append(FCX)        \n",
    "\n",
    "            command_str = str(bf_btye)\n",
    "            command_str = command_str.replace('[','').replace(']','')\n",
    "            command_str = command_str.replace('0x','').replace(', ','').replace(\"''\",'').replace(\"'\",'')\n",
    "            return command_str\n",
    "\n",
    "        if Speed > 255: # speed_hex will be 3 byte after set more than 255, these 3 byte have to devided in to 2byte + 2byte\n",
    "            for byte in PDU:\n",
    "                if len(hex(byte)) < 4:\n",
    "                    hex_byte = hex(byte)\n",
    "                    hex_byte = hex_byte.replace('0x','0x0')\n",
    "                    bf_btye.append(hex_byte)\n",
    "\n",
    "                else:\n",
    "                    hex_byte = hex(byte)\n",
    "                    bf_btye.append(hex_byte)\n",
    "\n",
    "            if len(FCX)<4:\n",
    "                FCX = FCX.replace('0x','0x0')\n",
    "\n",
    "            bf_btye.append(FCX)        \n",
    "            bf_btye.insert(5,hex_spd)\n",
    "\n",
    "            command_str = str(bf_btye)\n",
    "            command_str = command_str.replace('[','').replace(']','')\n",
    "            command_str = command_str.replace('0x','').replace(', ','').replace(\"''\",'').replace(\"'\",'')\n",
    "\n",
    "        else: # normal situation here\n",
    "            for byte in PDU: \n",
    "                if len(hex(byte)) < 4:\n",
    "                    hex_byte = hex(byte)\n",
    "                    hex_byte = hex_byte.replace('0x','0x0')\n",
    "                    bf_btye.append(hex_byte)\n",
    "\n",
    "                else:\n",
    "                    hex_byte = hex(byte)\n",
    "                    bf_btye.append(hex_byte)\n",
    "\n",
    "            if len(FCX)<4:\n",
    "                FCX = FCX.replace('0x','0x0')\n",
    "\n",
    "            bf_btye.append(FCX)        \n",
    "            bf_btye.insert(6,hex_spd)\n",
    "\n",
    "            command_str = str(bf_btye)\n",
    "            command_str = command_str.replace('[','').replace(']','')\n",
    "            command_str = command_str.replace('0x','').replace(', ','').replace(\"''\",'').replace(\"'\",'')\n",
    "        return command_str   \n",
    "\n",
    "    def Get(self, par):\n",
    "        Addr = self.Addr\n",
    "        if par == 'Speed':\n",
    "            PDU = [Addr, leng_RJ, R, J, PH_0]\n",
    "        elif par == 'Address':\n",
    "            for i in range(10):\n",
    "                \n",
    "                PDU = [i+1, leng_RID, R, I, D]\n",
    "                FCX = self.PDU_FCX(PDU, Speed = None)\n",
    "                cmd = self.get_full_command(*PDU, FCX = FCX, Speed = None, hex_spd = None)                \n",
    "                self.serial.write(unhexlify(cmd))\n",
    "                time.sleep(0.5)\n",
    "                data = str(self.serial.read_all())\n",
    "                #print(data)\n",
    "                if len(data) > 3 :\n",
    "                    #print(f'the pump address is {data[8:10]} through serial {self.serial.name}')\n",
    "                    break\n",
    "                time.sleep(0.5)\n",
    "            for i in range(10): # for loop for doublecheck \n",
    "                self.serial.write(unhexlify(cmd))\n",
    "                time.sleep(0.5)\n",
    "                data = str(self.serial.read_all())\n",
    "                if len(data) > 3 :\n",
    "                    print(f'the pump address is {data[8:10]} through serial {self.serial.name}')\n",
    "                    break\n",
    "        else:\n",
    "            print('invalid command')\n",
    "        return cmd\n",
    "\n",
    "\n",
    "    def Change_Addr(self, new_addr):\n",
    "        old_addr = self.Addr\n",
    "        self.Addr = new_addr\n",
    "        \n",
    "        PDU = [old_addr, leng_WID, W, I, D, new_addr]\n",
    "        FCX = self.PDU_FCX(PDU, Speed = None)\n",
    "        cmd = self.get_full_command(*PDU, FCX = FCX, Speed = None, hex_spd = None)\n",
    "        self.serial.write(unhexlify(cmd))\n",
    "        print(f'pump address is setting from {old_addr} to {new_addr} through {self.serial.name}')\n",
    "\n",
    "    def Set(self, Speed, ON, CW):\n",
    "        self.Speed = Speed\n",
    "        Speed = int(Speed * 10)\n",
    "        Addr = self.Addr\n",
    "        self.ON = ON\n",
    "        self.CW = CW\n",
    "        \n",
    "        if Speed > 999 or Speed < 1:\n",
    "            print('invalid Speed, valid Speed from 0.1 -> 99.9 rpm')\n",
    "            return\n",
    "\n",
    "        if ON == True and CW == True:\n",
    "            PDU = [Addr, leng_WJ, W, J, PH_0, ON, CW]\n",
    "        elif ON == False and CW == False:\n",
    "            PDU = [Addr, leng_WJ, W, J, PH_0, OFF, CCW]\n",
    "        elif ON == True and CW == False:\n",
    "            PDU = [Addr, leng_WJ, W, J, PH_0, ON, CCW]  \n",
    "        else: \n",
    "            PDU = [Addr, leng_WJ, W, J, PH_0, OFF, CW]  \n",
    "\n",
    "        hex_spd = self.get_speed_hex(Speed)\n",
    "        FCX = self.PDU_FCX(PDU, Speed)\n",
    "        cmd = self.get_full_command(*PDU, FCX = FCX, Speed = Speed, hex_spd = hex_spd)\n",
    "        self.serial.write(unhexlify(cmd))\n",
    "\n",
    "        print(f'pump Nr. {Addr} is running through serial port {self.serial.name}')"
   ]
  },
  {
   "cell_type": "markdown",
   "id": "b7962a85-7e5c-467f-bb21-d9fb82576952",
   "metadata": {},
   "source": [
    "<font color =blue size = 5>Pump_addr finder, run this to find correct addr when pump not respones</font>"
   ]
  },
  {
   "cell_type": "code",
   "execution_count": 8,
   "id": "8151a700-243f-4a29-b7d3-99023c4f3cda",
   "metadata": {},
   "outputs": [
    {
     "name": "stdout",
     "output_type": "stream",
     "text": [
      "the pump address is 01 through serial /dev/ttyUSB0\n"
     ]
    },
    {
     "data": {
      "text/plain": [
       "'e901035249445d'"
      ]
     },
     "execution_count": 8,
     "metadata": {},
     "output_type": "execute_result"
    }
   ],
   "source": [
    "PUMP_01.Get('Address') # this function is independent on the pump_addr. it will help you find pump addr within this serial port"
   ]
  },
  {
   "cell_type": "markdown",
   "id": "2ed08590-1458-462c-a35e-e7aa6b0303e6",
   "metadata": {},
   "source": [
    "<font color =Red size = 5>find all local serial ports and return a list containts all ports</font>"
   ]
  },
  {
   "cell_type": "code",
   "execution_count": 9,
   "id": "3132540d-0de8-4478-bac7-6ea798ac849b",
   "metadata": {},
   "outputs": [
    {
     "name": "stdout",
     "output_type": "stream",
     "text": [
      "Find 1 ports, try to open these ports\n",
      "Find Port: /dev/ttyUSB0 now is open: True\n"
     ]
    }
   ],
   "source": [
    "Ports_list_opened = OpenPort_S() # find all local serial ports\n",
    "serial_01 = Ports_list_opened[0] # return a list contains all serial ports\n",
    "# default opration set all ports OPEN!!!"
   ]
  },
  {
   "cell_type": "markdown",
   "id": "dcceb293-9183-46f7-9699-b11c9aa6ff63",
   "metadata": {},
   "source": [
    "<font color =Red size = 5>Initiatiate a pump class. But the pump address must be assigned correctly</font>"
   ]
  },
  {
   "cell_type": "code",
   "execution_count": 10,
   "id": "76d10d63-b9b5-44bb-ac76-07f0c72a0556",
   "metadata": {},
   "outputs": [],
   "source": [
    "PUMP_01 = PUMP(serial = serial_01, Addr =1, Speed = 100, CW = True, ON = False) # set some default par but no transmisstion"
   ]
  },
  {
   "cell_type": "markdown",
   "id": "e5b14d82-3115-41e7-b5b5-21f0c90c24f6",
   "metadata": {},
   "source": [
    "<font color =Red size = 5>Set Speed/Direction/Switch. If address was wrong. Pump wont give a response</font>"
   ]
  },
  {
   "cell_type": "code",
   "execution_count": 13,
   "id": "ca7c33f3-54e4-4ca5-902d-4969056819dc",
   "metadata": {},
   "outputs": [
    {
     "name": "stdout",
     "output_type": "stream",
     "text": [
      "pump Nr. 1 is running through serial port /dev/ttyUSB0\n"
     ]
    },
    {
     "data": {
      "text/plain": [
       "30"
      ]
     },
     "execution_count": 13,
     "metadata": {},
     "output_type": "execute_result"
    }
   ],
   "source": [
    "PUMP_01.Set(Speed = 30, ON = False, CW = True) # Speed has to be from 0.1 to 99.9\n",
    "PUMP_01.Speed # rpm"
   ]
  },
  {
   "cell_type": "markdown",
   "id": "45ccf050-08da-43dd-b61e-1e224f53d1f7",
   "metadata": {},
   "source": [
    "<font color =Red size = 5>Change old address (default is 1) to new one.</font>"
   ]
  },
  {
   "cell_type": "code",
   "execution_count": 14,
   "id": "ba3186f2-1d04-4268-b52d-4b5a2c87b039",
   "metadata": {},
   "outputs": [
    {
     "name": "stdout",
     "output_type": "stream",
     "text": [
      "pump address is setting from 1 to 1 through /dev/ttyUSB0\n"
     ]
    }
   ],
   "source": [
    "PUMP_01.Change_Addr(new_addr = 1)"
   ]
  },
  {
   "cell_type": "markdown",
   "id": "3da27ec9-1c23-4fde-99ea-37a39d619484",
   "metadata": {},
   "source": [
    "<font color =Red size = 5>Operation done, close this port.</font>"
   ]
  },
  {
   "cell_type": "code",
   "execution_count": 145,
   "id": "ae3c725e-7899-4af3-b4b5-172c12bdab80",
   "metadata": {},
   "outputs": [
    {
     "data": {
      "text/plain": [
       "['/dev/ttyUSB0']"
      ]
     },
     "execution_count": 145,
     "metadata": {},
     "output_type": "execute_result"
    }
   ],
   "source": [
    "PUMP_01.serial.close()\n",
    "PUMP_01.serial.is_open # check status and return boolean"
   ]
  }
 ],
 "metadata": {
  "kernelspec": {
   "display_name": "Python 3 (ipykernel)",
   "language": "python",
   "name": "python3"
  },
  "language_info": {
   "codemirror_mode": {
    "name": "ipython",
    "version": 3
   },
   "file_extension": ".py",
   "mimetype": "text/x-python",
   "name": "python",
   "nbconvert_exporter": "python",
   "pygments_lexer": "ipython3",
   "version": "3.8.8"
  }
 },
 "nbformat": 4,
 "nbformat_minor": 5
}
